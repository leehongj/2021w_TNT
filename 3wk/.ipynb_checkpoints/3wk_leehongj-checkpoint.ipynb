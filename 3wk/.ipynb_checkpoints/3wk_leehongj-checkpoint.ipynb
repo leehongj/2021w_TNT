{
 "cells": [
  {
   "cell_type": "code",
   "execution_count": 200,
   "metadata": {},
   "outputs": [],
   "source": [
    "import pandas as pd\n",
    "import numpy as np\n",
    "import os\n",
    "import warnings\n",
    "warnings.filterwarnings('ignore')"
   ]
  },
  {
   "cell_type": "markdown",
   "metadata": {},
   "source": [
    "#### **과제-1: heart attack**"
   ]
  },
  {
   "cell_type": "code",
   "execution_count": 201,
   "metadata": {},
   "outputs": [],
   "source": [
    "htrain = pd.read_csv('./data/heart attack train.csv', index_col=0)\n",
    "htest = pd.read_csv('./data/heart attack test.csv', index_col=0)"
   ]
  },
  {
   "cell_type": "markdown",
   "metadata": {},
   "source": [
    "**EDA**"
   ]
  },
  {
   "cell_type": "code",
   "execution_count": 202,
   "metadata": {},
   "outputs": [
    {
     "data": {
      "text/html": [
       "<div>\n",
       "<style scoped>\n",
       "    .dataframe tbody tr th:only-of-type {\n",
       "        vertical-align: middle;\n",
       "    }\n",
       "\n",
       "    .dataframe tbody tr th {\n",
       "        vertical-align: top;\n",
       "    }\n",
       "\n",
       "    .dataframe thead th {\n",
       "        text-align: right;\n",
       "    }\n",
       "</style>\n",
       "<table border=\"1\" class=\"dataframe\">\n",
       "  <thead>\n",
       "    <tr style=\"text-align: right;\">\n",
       "      <th></th>\n",
       "      <th>feature</th>\n",
       "      <th>feature_types</th>\n",
       "      <th>unique_count</th>\n",
       "      <th>unique_value</th>\n",
       "    </tr>\n",
       "  </thead>\n",
       "  <tbody>\n",
       "    <tr>\n",
       "      <th>0</th>\n",
       "      <td>age</td>\n",
       "      <td>int64</td>\n",
       "      <td>41</td>\n",
       "      <td>[52, 67, 57, 50, 62]</td>\n",
       "    </tr>\n",
       "    <tr>\n",
       "      <th>1</th>\n",
       "      <td>sex</td>\n",
       "      <td>int64</td>\n",
       "      <td>2</td>\n",
       "      <td>[1, 0]</td>\n",
       "    </tr>\n",
       "    <tr>\n",
       "      <th>2</th>\n",
       "      <td>cp</td>\n",
       "      <td>int64</td>\n",
       "      <td>4</td>\n",
       "      <td>[3, 2, 1, 0]</td>\n",
       "    </tr>\n",
       "    <tr>\n",
       "      <th>3</th>\n",
       "      <td>trestbps</td>\n",
       "      <td>int64</td>\n",
       "      <td>47</td>\n",
       "      <td>[118, 152, 150, 154, 120]</td>\n",
       "    </tr>\n",
       "    <tr>\n",
       "      <th>4</th>\n",
       "      <td>chol</td>\n",
       "      <td>int64</td>\n",
       "      <td>137</td>\n",
       "      <td>[186, 277, 126, 232, 244]</td>\n",
       "    </tr>\n",
       "    <tr>\n",
       "      <th>5</th>\n",
       "      <td>fbs</td>\n",
       "      <td>int64</td>\n",
       "      <td>2</td>\n",
       "      <td>[0, 1]</td>\n",
       "    </tr>\n",
       "    <tr>\n",
       "      <th>6</th>\n",
       "      <td>restecg</td>\n",
       "      <td>int64</td>\n",
       "      <td>3</td>\n",
       "      <td>[0, 1, 2]</td>\n",
       "    </tr>\n",
       "    <tr>\n",
       "      <th>7</th>\n",
       "      <td>thalach</td>\n",
       "      <td>int64</td>\n",
       "      <td>86</td>\n",
       "      <td>[190, 172, 173, 164, 162]</td>\n",
       "    </tr>\n",
       "    <tr>\n",
       "      <th>8</th>\n",
       "      <td>exang</td>\n",
       "      <td>int64</td>\n",
       "      <td>2</td>\n",
       "      <td>[0, 1]</td>\n",
       "    </tr>\n",
       "    <tr>\n",
       "      <th>9</th>\n",
       "      <td>oldpeak</td>\n",
       "      <td>float64</td>\n",
       "      <td>36</td>\n",
       "      <td>[0.0, 0.2, 1.1, 1.6, 3.6]</td>\n",
       "    </tr>\n",
       "    <tr>\n",
       "      <th>10</th>\n",
       "      <td>slope</td>\n",
       "      <td>int64</td>\n",
       "      <td>3</td>\n",
       "      <td>[1, 2, 0]</td>\n",
       "    </tr>\n",
       "    <tr>\n",
       "      <th>11</th>\n",
       "      <td>ca</td>\n",
       "      <td>int64</td>\n",
       "      <td>5</td>\n",
       "      <td>[0, 1, 2, 3, 4]</td>\n",
       "    </tr>\n",
       "    <tr>\n",
       "      <th>12</th>\n",
       "      <td>thal</td>\n",
       "      <td>int64</td>\n",
       "      <td>4</td>\n",
       "      <td>[1, 2, 3, 0]</td>\n",
       "    </tr>\n",
       "  </tbody>\n",
       "</table>\n",
       "</div>"
      ],
      "text/plain": [
       "     feature feature_types  unique_count               unique_value\n",
       "0        age         int64            41       [52, 67, 57, 50, 62]\n",
       "1        sex         int64             2                     [1, 0]\n",
       "2         cp         int64             4               [3, 2, 1, 0]\n",
       "3   trestbps         int64            47  [118, 152, 150, 154, 120]\n",
       "4       chol         int64           137  [186, 277, 126, 232, 244]\n",
       "5        fbs         int64             2                     [0, 1]\n",
       "6    restecg         int64             3                  [0, 1, 2]\n",
       "7    thalach         int64            86  [190, 172, 173, 164, 162]\n",
       "8      exang         int64             2                     [0, 1]\n",
       "9    oldpeak       float64            36  [0.0, 0.2, 1.1, 1.6, 3.6]\n",
       "10     slope         int64             3                  [1, 2, 0]\n",
       "11        ca         int64             5            [0, 1, 2, 3, 4]\n",
       "12      thal         int64             4               [1, 2, 3, 0]"
      ]
     },
     "execution_count": 202,
     "metadata": {},
     "output_type": "execute_result"
    }
   ],
   "source": [
    "colname = []\n",
    "types = []\n",
    "unique_count = []\n",
    "unique_value = []\n",
    "for col in htrain.columns[:-1]:\n",
    "    colname.append(col)\n",
    "    types.append(htrain[col].dtypes)\n",
    "    unique_count.append(len(htrain[col].unique()))\n",
    "    unique_value.append(htrain[col].unique()[:5])\n",
    "EDA = pd.DataFrame({'feature': colname, 'feature_types': types, 'unique_count':unique_count, 'unique_value':unique_value})\n",
    "EDA"
   ]
  },
  {
   "cell_type": "markdown",
   "metadata": {},
   "source": [
    "**One Hot Encoding for categorical value**"
   ]
  },
  {
   "cell_type": "markdown",
   "metadata": {},
   "source": [
    ": (참고) Tree모델의 경우, 가지로 나눠지기 때문에 One Hot Encoding의 전과 후의 결과가 같다."
   ]
  },
  {
   "cell_type": "markdown",
   "metadata": {},
   "source": [
    ": One Hot Encoding의 경우, train과 test가 동일하게 One Hot Encoding이 진행되어야 하기 때문에 합쳐서 작업을 해주어야 한다."
   ]
  },
  {
   "cell_type": "code",
   "execution_count": 203,
   "metadata": {},
   "outputs": [],
   "source": [
    "transformation_columns = dict(zip(EDA.feature, EDA.unique_count))\n",
    "for col in htrain.columns[:-1]:\n",
    "    if transformation_columns[col] < 6:\n",
    "        htrain[col]=htrain[col].apply(lambda x: str(x))\n",
    "for col in htest.columns[:-1]:\n",
    "    if transformation_columns[col] < 6:\n",
    "        htest[col]=htest[col].apply(lambda x: str(x))"
   ]
  },
  {
   "cell_type": "code",
   "execution_count": 205,
   "metadata": {},
   "outputs": [],
   "source": [
    "total = pd.concat([htrain, htest],axis=0)"
   ]
  },
  {
   "cell_type": "code",
   "execution_count": 210,
   "metadata": {},
   "outputs": [],
   "source": [
    "total = pd.get_dummies(total)"
   ]
  },
  {
   "cell_type": "code",
   "execution_count": 211,
   "metadata": {},
   "outputs": [],
   "source": [
    "htrain = total.iloc[htrain.index]\n",
    "htest = total.iloc[htest.index]"
   ]
  },
  {
   "cell_type": "markdown",
   "metadata": {},
   "source": [
    "**Train_Test_Split**"
   ]
  },
  {
   "cell_type": "code",
   "execution_count": 212,
   "metadata": {},
   "outputs": [],
   "source": [
    "X_train = htrain.drop('target',axis=1)\n",
    "y_train = htrain.target\n",
    "X_test = htest.drop('target', axis=1)\n",
    "y_test = htest.target"
   ]
  },
  {
   "cell_type": "code",
   "execution_count": 213,
   "metadata": {},
   "outputs": [
    {
     "data": {
      "text/plain": [
       "Index(['age', 'trestbps', 'chol', 'thalach', 'oldpeak', 'sex_0', 'sex_1',\n",
       "       'cp_0', 'cp_1', 'cp_2', 'cp_3', 'fbs_0', 'fbs_1', 'restecg_0',\n",
       "       'restecg_1', 'restecg_2', 'exang_0', 'exang_1', 'slope_0', 'slope_1',\n",
       "       'slope_2', 'ca_0', 'ca_1', 'ca_2', 'ca_3', 'ca_4', 'thal_0', 'thal_1',\n",
       "       'thal_2', 'thal_3'],\n",
       "      dtype='object')"
      ]
     },
     "execution_count": 213,
     "metadata": {},
     "output_type": "execute_result"
    }
   ],
   "source": [
    "X_train.columns"
   ]
  },
  {
   "cell_type": "code",
   "execution_count": 214,
   "metadata": {},
   "outputs": [
    {
     "data": {
      "text/plain": [
       "Index(['age', 'trestbps', 'chol', 'thalach', 'oldpeak', 'sex_0', 'sex_1',\n",
       "       'cp_0', 'cp_1', 'cp_2', 'cp_3', 'fbs_0', 'fbs_1', 'restecg_0',\n",
       "       'restecg_1', 'restecg_2', 'exang_0', 'exang_1', 'slope_0', 'slope_1',\n",
       "       'slope_2', 'ca_0', 'ca_1', 'ca_2', 'ca_3', 'ca_4', 'thal_0', 'thal_1',\n",
       "       'thal_2', 'thal_3'],\n",
       "      dtype='object')"
      ]
     },
     "execution_count": 214,
     "metadata": {},
     "output_type": "execute_result"
    }
   ],
   "source": [
    "X_test.columns"
   ]
  },
  {
   "cell_type": "markdown",
   "metadata": {},
   "source": [
    "**Model; Logistic Regression**"
   ]
  },
  {
   "cell_type": "code",
   "execution_count": 215,
   "metadata": {},
   "outputs": [],
   "source": [
    "from sklearn.linear_model import LogisticRegression\n",
    "from sklearn import metrics"
   ]
  },
  {
   "cell_type": "code",
   "execution_count": 216,
   "metadata": {},
   "outputs": [],
   "source": [
    "clf = LogisticRegression()\n",
    "clf = clf.fit(X_train,y_train)"
   ]
  },
  {
   "cell_type": "markdown",
   "metadata": {},
   "source": [
    "**Model Result**"
   ]
  },
  {
   "cell_type": "code",
   "execution_count": 223,
   "metadata": {},
   "outputs": [],
   "source": [
    "coefficient = dict(zip(htrain.columns.values, clf.coef_[0]))\n",
    "coefficient = sorted(coefficient.items(), key=lambda x: abs(x[1]), reverse=True)"
   ]
  },
  {
   "cell_type": "code",
   "execution_count": 224,
   "metadata": {},
   "outputs": [
    {
     "data": {
      "text/plain": [
       "[('sex_1', -1.370823799698216),\n",
       " ('slope_2', 1.2743399761168215),\n",
       " ('cp_1', 0.7872623725343973),\n",
       " ('thal_2', -0.7420564443559714),\n",
       " ('ca_1', -0.6809209278331985)]"
      ]
     },
     "execution_count": 224,
     "metadata": {},
     "output_type": "execute_result"
    }
   ],
   "source": [
    "coefficient[:5]"
   ]
  },
  {
   "cell_type": "markdown",
   "metadata": {},
   "source": [
    ": 해당 coef는 log odds를 나타낸다."
   ]
  },
  {
   "cell_type": "markdown",
   "metadata": {},
   "source": [
    "**Test classification rate**"
   ]
  },
  {
   "cell_type": "code",
   "execution_count": 225,
   "metadata": {},
   "outputs": [],
   "source": [
    "y_pred = clf.predict(X_test)"
   ]
  },
  {
   "cell_type": "code",
   "execution_count": 226,
   "metadata": {},
   "outputs": [
    {
     "data": {
      "text/plain": [
       "array([[25,  5],\n",
       "       [ 2, 29]], dtype=int64)"
      ]
     },
     "execution_count": 226,
     "metadata": {},
     "output_type": "execute_result"
    }
   ],
   "source": [
    "metrics.confusion_matrix(y_test, y_pred)"
   ]
  },
  {
   "cell_type": "code",
   "execution_count": 227,
   "metadata": {},
   "outputs": [
    {
     "name": "stdout",
     "output_type": "stream",
     "text": [
      "Accuracy: 0.8852459016393442\n"
     ]
    }
   ],
   "source": [
    "print(\"Accuracy:\",metrics.accuracy_score(y_test, y_pred))"
   ]
  },
  {
   "cell_type": "markdown",
   "metadata": {},
   "source": [
    "#### **과제-2: satisfaction**"
   ]
  },
  {
   "cell_type": "code",
   "execution_count": 269,
   "metadata": {},
   "outputs": [],
   "source": [
    "strain = pd.read_csv('./data/satisfaction_train.csv', index_col=0)\n",
    "stest = pd.read_csv('./data/satisfaction_test.csv', index_col=0)"
   ]
  },
  {
   "cell_type": "markdown",
   "metadata": {},
   "source": [
    "**EDA**"
   ]
  },
  {
   "cell_type": "code",
   "execution_count": 270,
   "metadata": {},
   "outputs": [
    {
     "data": {
      "text/html": [
       "<div>\n",
       "<style scoped>\n",
       "    .dataframe tbody tr th:only-of-type {\n",
       "        vertical-align: middle;\n",
       "    }\n",
       "\n",
       "    .dataframe tbody tr th {\n",
       "        vertical-align: top;\n",
       "    }\n",
       "\n",
       "    .dataframe thead th {\n",
       "        text-align: right;\n",
       "    }\n",
       "</style>\n",
       "<table border=\"1\" class=\"dataframe\">\n",
       "  <thead>\n",
       "    <tr style=\"text-align: right;\">\n",
       "      <th></th>\n",
       "      <th>feature</th>\n",
       "      <th>feature_types</th>\n",
       "      <th>unique_count</th>\n",
       "      <th>unique_value</th>\n",
       "    </tr>\n",
       "  </thead>\n",
       "  <tbody>\n",
       "    <tr>\n",
       "      <th>0</th>\n",
       "      <td>Gender</td>\n",
       "      <td>object</td>\n",
       "      <td>2</td>\n",
       "      <td>[Female, Male]</td>\n",
       "    </tr>\n",
       "    <tr>\n",
       "      <th>1</th>\n",
       "      <td>Customer Type</td>\n",
       "      <td>object</td>\n",
       "      <td>2</td>\n",
       "      <td>[Loyal Customer, disloyal Customer]</td>\n",
       "    </tr>\n",
       "    <tr>\n",
       "      <th>2</th>\n",
       "      <td>Age</td>\n",
       "      <td>int64</td>\n",
       "      <td>75</td>\n",
       "      <td>[39, 27, 21, 64, 69]</td>\n",
       "    </tr>\n",
       "    <tr>\n",
       "      <th>3</th>\n",
       "      <td>Type of Travel</td>\n",
       "      <td>object</td>\n",
       "      <td>2</td>\n",
       "      <td>[Business travel, Personal Travel]</td>\n",
       "    </tr>\n",
       "    <tr>\n",
       "      <th>4</th>\n",
       "      <td>Class</td>\n",
       "      <td>object</td>\n",
       "      <td>3</td>\n",
       "      <td>[Business, Eco Plus, Eco]</td>\n",
       "    </tr>\n",
       "    <tr>\n",
       "      <th>5</th>\n",
       "      <td>Flight Distance</td>\n",
       "      <td>int64</td>\n",
       "      <td>4854</td>\n",
       "      <td>[2725, 1634, 1341, 3794, 1237]</td>\n",
       "    </tr>\n",
       "    <tr>\n",
       "      <th>6</th>\n",
       "      <td>Seat comfort</td>\n",
       "      <td>int64</td>\n",
       "      <td>6</td>\n",
       "      <td>[5, 3, 4, 2, 0]</td>\n",
       "    </tr>\n",
       "    <tr>\n",
       "      <th>7</th>\n",
       "      <td>Departure/Arrival time convenient</td>\n",
       "      <td>int64</td>\n",
       "      <td>6</td>\n",
       "      <td>[5, 3, 4, 2, 1]</td>\n",
       "    </tr>\n",
       "    <tr>\n",
       "      <th>8</th>\n",
       "      <td>Food and drink</td>\n",
       "      <td>int64</td>\n",
       "      <td>6</td>\n",
       "      <td>[2, 3, 0, 5, 4]</td>\n",
       "    </tr>\n",
       "    <tr>\n",
       "      <th>9</th>\n",
       "      <td>Gate location</td>\n",
       "      <td>int64</td>\n",
       "      <td>5</td>\n",
       "      <td>[5, 3, 1, 4, 2]</td>\n",
       "    </tr>\n",
       "    <tr>\n",
       "      <th>10</th>\n",
       "      <td>Inflight wifi service</td>\n",
       "      <td>int64</td>\n",
       "      <td>6</td>\n",
       "      <td>[4, 3, 1, 2, 5]</td>\n",
       "    </tr>\n",
       "    <tr>\n",
       "      <th>11</th>\n",
       "      <td>Inflight entertainment</td>\n",
       "      <td>int64</td>\n",
       "      <td>6</td>\n",
       "      <td>[4, 3, 0, 1, 5]</td>\n",
       "    </tr>\n",
       "    <tr>\n",
       "      <th>12</th>\n",
       "      <td>Online support</td>\n",
       "      <td>int64</td>\n",
       "      <td>6</td>\n",
       "      <td>[5, 3, 1, 2, 4]</td>\n",
       "    </tr>\n",
       "    <tr>\n",
       "      <th>13</th>\n",
       "      <td>Ease of Online booking</td>\n",
       "      <td>int64</td>\n",
       "      <td>6</td>\n",
       "      <td>[4, 3, 1, 5, 2]</td>\n",
       "    </tr>\n",
       "    <tr>\n",
       "      <th>14</th>\n",
       "      <td>On-board service</td>\n",
       "      <td>int64</td>\n",
       "      <td>6</td>\n",
       "      <td>[4, 3, 5, 2, 1]</td>\n",
       "    </tr>\n",
       "    <tr>\n",
       "      <th>15</th>\n",
       "      <td>Leg room service</td>\n",
       "      <td>int64</td>\n",
       "      <td>6</td>\n",
       "      <td>[4, 1, 3, 5, 2]</td>\n",
       "    </tr>\n",
       "    <tr>\n",
       "      <th>16</th>\n",
       "      <td>Baggage handling</td>\n",
       "      <td>int64</td>\n",
       "      <td>5</td>\n",
       "      <td>[4, 3, 5, 2, 1]</td>\n",
       "    </tr>\n",
       "    <tr>\n",
       "      <th>17</th>\n",
       "      <td>Checkin service</td>\n",
       "      <td>int64</td>\n",
       "      <td>6</td>\n",
       "      <td>[4, 2, 5, 1, 3]</td>\n",
       "    </tr>\n",
       "    <tr>\n",
       "      <th>18</th>\n",
       "      <td>Cleanliness</td>\n",
       "      <td>int64</td>\n",
       "      <td>6</td>\n",
       "      <td>[4, 3, 5, 2, 1]</td>\n",
       "    </tr>\n",
       "    <tr>\n",
       "      <th>19</th>\n",
       "      <td>Online boarding</td>\n",
       "      <td>int64</td>\n",
       "      <td>6</td>\n",
       "      <td>[4, 3, 1, 2, 5]</td>\n",
       "    </tr>\n",
       "    <tr>\n",
       "      <th>20</th>\n",
       "      <td>Departure Delay in Minutes</td>\n",
       "      <td>int64</td>\n",
       "      <td>376</td>\n",
       "      <td>[73, 39, 0, 570, 69]</td>\n",
       "    </tr>\n",
       "    <tr>\n",
       "      <th>21</th>\n",
       "      <td>Arrival Delay in Minutes</td>\n",
       "      <td>float64</td>\n",
       "      <td>391</td>\n",
       "      <td>[65.0, 37.0, 0.0, 567.0, 72.0]</td>\n",
       "    </tr>\n",
       "  </tbody>\n",
       "</table>\n",
       "</div>"
      ],
      "text/plain": [
       "                              feature feature_types  unique_count  \\\n",
       "0                              Gender        object             2   \n",
       "1                       Customer Type        object             2   \n",
       "2                                 Age         int64            75   \n",
       "3                      Type of Travel        object             2   \n",
       "4                               Class        object             3   \n",
       "5                     Flight Distance         int64          4854   \n",
       "6                        Seat comfort         int64             6   \n",
       "7   Departure/Arrival time convenient         int64             6   \n",
       "8                      Food and drink         int64             6   \n",
       "9                       Gate location         int64             5   \n",
       "10              Inflight wifi service         int64             6   \n",
       "11             Inflight entertainment         int64             6   \n",
       "12                     Online support         int64             6   \n",
       "13             Ease of Online booking         int64             6   \n",
       "14                   On-board service         int64             6   \n",
       "15                   Leg room service         int64             6   \n",
       "16                   Baggage handling         int64             5   \n",
       "17                    Checkin service         int64             6   \n",
       "18                        Cleanliness         int64             6   \n",
       "19                    Online boarding         int64             6   \n",
       "20         Departure Delay in Minutes         int64           376   \n",
       "21           Arrival Delay in Minutes       float64           391   \n",
       "\n",
       "                           unique_value  \n",
       "0                        [Female, Male]  \n",
       "1   [Loyal Customer, disloyal Customer]  \n",
       "2                  [39, 27, 21, 64, 69]  \n",
       "3    [Business travel, Personal Travel]  \n",
       "4             [Business, Eco Plus, Eco]  \n",
       "5        [2725, 1634, 1341, 3794, 1237]  \n",
       "6                       [5, 3, 4, 2, 0]  \n",
       "7                       [5, 3, 4, 2, 1]  \n",
       "8                       [2, 3, 0, 5, 4]  \n",
       "9                       [5, 3, 1, 4, 2]  \n",
       "10                      [4, 3, 1, 2, 5]  \n",
       "11                      [4, 3, 0, 1, 5]  \n",
       "12                      [5, 3, 1, 2, 4]  \n",
       "13                      [4, 3, 1, 5, 2]  \n",
       "14                      [4, 3, 5, 2, 1]  \n",
       "15                      [4, 1, 3, 5, 2]  \n",
       "16                      [4, 3, 5, 2, 1]  \n",
       "17                      [4, 2, 5, 1, 3]  \n",
       "18                      [4, 3, 5, 2, 1]  \n",
       "19                      [4, 3, 1, 2, 5]  \n",
       "20                 [73, 39, 0, 570, 69]  \n",
       "21       [65.0, 37.0, 0.0, 567.0, 72.0]  "
      ]
     },
     "execution_count": 270,
     "metadata": {},
     "output_type": "execute_result"
    }
   ],
   "source": [
    "colname = []\n",
    "types = []\n",
    "unique_count = []\n",
    "unique_value = []\n",
    "for col in strain.columns[:-1]:\n",
    "    colname.append(col)\n",
    "    types.append(strain[col].dtypes)\n",
    "    unique_count.append(len(strain[col].unique()))\n",
    "    unique_value.append(strain[col].unique()[:5])\n",
    "EDA = pd.DataFrame({'feature': colname, 'feature_types': types, 'unique_count':unique_count, 'unique_value':unique_value})\n",
    "EDA"
   ]
  },
  {
   "cell_type": "markdown",
   "metadata": {},
   "source": [
    "**One Hot Encoding for categorical value & Transformation of target**"
   ]
  },
  {
   "cell_type": "code",
   "execution_count": 271,
   "metadata": {},
   "outputs": [],
   "source": [
    "transformation_columns = dict(zip(EDA.feature, EDA.unique_count))\n",
    "for col in strain.columns[:-1]:\n",
    "    if transformation_columns[col] < 7:\n",
    "        strain[col]=strain[col].apply(lambda x: str(x))\n",
    "for col in X_test.columns[:-1]:\n",
    "    if transformation_columns[col] < 7:\n",
    "        stest[col]=stest[col].apply(lambda x: str(x))"
   ]
  },
  {
   "cell_type": "code",
   "execution_count": 272,
   "metadata": {},
   "outputs": [],
   "source": [
    "strain[strain.columns[-1]] = [1 if i=='satisfied' else 0 for i in strain[strain.columns[-1]]]\n",
    "stest[stest.columns[-1]] = [1 if i=='satisfied' else 0 for i in stest[stest.columns[-1]]]"
   ]
  },
  {
   "cell_type": "code",
   "execution_count": 273,
   "metadata": {},
   "outputs": [],
   "source": [
    "total = pd.concat([strain, stest],axis=0)"
   ]
  },
  {
   "cell_type": "code",
   "execution_count": 274,
   "metadata": {},
   "outputs": [],
   "source": [
    "total = pd.get_dummies(total)"
   ]
  },
  {
   "cell_type": "code",
   "execution_count": 275,
   "metadata": {},
   "outputs": [
    {
     "data": {
      "text/plain": [
       "(12949, 23)"
      ]
     },
     "execution_count": 275,
     "metadata": {},
     "output_type": "execute_result"
    }
   ],
   "source": [
    "stest.shape"
   ]
  },
  {
   "cell_type": "code",
   "execution_count": 280,
   "metadata": {},
   "outputs": [],
   "source": [
    "strain = total.iloc[:len(strain)]\n",
    "stest = total.iloc[len(strain):]"
   ]
  },
  {
   "cell_type": "markdown",
   "metadata": {},
   "source": [
    "**Train_Test_Split**"
   ]
  },
  {
   "cell_type": "code",
   "execution_count": 282,
   "metadata": {},
   "outputs": [],
   "source": [
    "X_train = strain.drop('satisfaction',axis=1)\n",
    "y_train = strain.satisfaction\n",
    "X_test = stest.drop('satisfaction', axis=1)\n",
    "y_test = stest.satisfaction"
   ]
  },
  {
   "cell_type": "code",
   "execution_count": 283,
   "metadata": {},
   "outputs": [],
   "source": [
    "X_train = pd.get_dummies(X_train)\n",
    "X_test = pd.get_dummies(X_test)"
   ]
  },
  {
   "cell_type": "markdown",
   "metadata": {},
   "source": [
    "**Model; Logistic Regression**"
   ]
  },
  {
   "cell_type": "code",
   "execution_count": 284,
   "metadata": {},
   "outputs": [],
   "source": [
    "clf = LogisticRegression()\n",
    "clf = clf.fit(X_train,y_train)"
   ]
  },
  {
   "cell_type": "code",
   "execution_count": 285,
   "metadata": {},
   "outputs": [],
   "source": [
    "coefficient = dict(zip(htrain.columns.values, clf.coef_[0]))\n",
    "coefficient = sorted(coefficient.items(), key=lambda x: x[1], reverse=True)"
   ]
  },
  {
   "cell_type": "code",
   "execution_count": 286,
   "metadata": {},
   "outputs": [
    {
     "data": {
      "text/plain": [
       "[('exang_1', 1.394239498453339),\n",
       " ('sex_0', 1.0866249479223449),\n",
       " ('cp_2', 0.7802299311978403),\n",
       " ('fbs_1', 0.7323918765079476),\n",
       " ('thal_3', 0.6751208851040738)]"
      ]
     },
     "execution_count": 286,
     "metadata": {},
     "output_type": "execute_result"
    }
   ],
   "source": [
    "coefficient[:5]"
   ]
  },
  {
   "cell_type": "markdown",
   "metadata": {},
   "source": [
    "**Test classification Rate**"
   ]
  },
  {
   "cell_type": "code",
   "execution_count": 287,
   "metadata": {},
   "outputs": [],
   "source": [
    "y_pred = clf.predict(X_test)"
   ]
  },
  {
   "cell_type": "code",
   "execution_count": 288,
   "metadata": {},
   "outputs": [
    {
     "data": {
      "text/plain": [
       "array([[5117,  761],\n",
       "       [ 762, 6309]], dtype=int64)"
      ]
     },
     "execution_count": 288,
     "metadata": {},
     "output_type": "execute_result"
    }
   ],
   "source": [
    "metrics.confusion_matrix(y_test, y_pred)"
   ]
  },
  {
   "cell_type": "code",
   "execution_count": 289,
   "metadata": {},
   "outputs": [
    {
     "name": "stdout",
     "output_type": "stream",
     "text": [
      "Accuracy: 0.8823847401343733\n"
     ]
    }
   ],
   "source": [
    "print(\"Accuracy:\",metrics.accuracy_score(y_test, y_pred))"
   ]
  },
  {
   "cell_type": "code",
   "execution_count": null,
   "metadata": {},
   "outputs": [],
   "source": []
  }
 ],
 "metadata": {
  "kernelspec": {
   "display_name": "Python 3",
   "language": "python",
   "name": "python3"
  },
  "language_info": {
   "codemirror_mode": {
    "name": "ipython",
    "version": 3
   },
   "file_extension": ".py",
   "mimetype": "text/x-python",
   "name": "python",
   "nbconvert_exporter": "python",
   "pygments_lexer": "ipython3",
   "version": "3.8.5"
  }
 },
 "nbformat": 4,
 "nbformat_minor": 4
}
